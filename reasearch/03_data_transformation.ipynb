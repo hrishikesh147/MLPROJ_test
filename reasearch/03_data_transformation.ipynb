{
 "cells": [
  {
   "cell_type": "code",
   "execution_count": 4,
   "metadata": {},
   "outputs": [
    {
     "data": {
      "text/plain": [
       "'e:\\\\FullStack_Data\\\\MACHINE_LEARNING\\\\PROJECTS\\\\MLPROJ_test\\\\reasearch'"
      ]
     },
     "execution_count": 4,
     "metadata": {},
     "output_type": "execute_result"
    }
   ],
   "source": [
    "%pwd"
   ]
  },
  {
   "cell_type": "code",
   "execution_count": 5,
   "metadata": {},
   "outputs": [],
   "source": [
    "import os\n",
    "os.chdir('../')"
   ]
  },
  {
   "cell_type": "code",
   "execution_count": 6,
   "metadata": {},
   "outputs": [
    {
     "data": {
      "text/plain": [
       "'e:\\\\FullStack_Data\\\\MACHINE_LEARNING\\\\PROJECTS\\\\MLPROJ_test'"
      ]
     },
     "execution_count": 6,
     "metadata": {},
     "output_type": "execute_result"
    }
   ],
   "source": [
    "%pwd"
   ]
  },
  {
   "cell_type": "code",
   "execution_count": 7,
   "metadata": {},
   "outputs": [],
   "source": [
    "from dataclasses import dataclass\n",
    "from pathlib import Path\n",
    "\n",
    "@dataclass(frozen=True)\n",
    "class DataTransformationConfig:\n",
    "    root_dir: Path\n",
    "    data_path: Path"
   ]
  },
  {
   "cell_type": "code",
   "execution_count": 8,
   "metadata": {},
   "outputs": [],
   "source": [
    "from src.mlproject1.constants import *\n",
    "from src.mlproject1.utils.common import create_directories,read_yaml\n",
    "\n",
    "class ConfigurationManager():\n",
    "    def __init__(self,CONFIG_FILE_PATH,SCHEMA_FILE_PATH,PARAMS_FILE_PATH):\n",
    "        self.config=read_yaml(CONFIG_FILE_PATH)\n",
    "        self.params=read_yaml(PARAMS_FILE_PATH)\n",
    "        self.schema=read_yaml(SCHEMA_FILE_PATH)\n",
    "\n",
    "        create_directories([self.config.root_dir])\n",
    "\n",
    "    def get_data_transformation_config(self)-> DataTransformationConfig:\n",
    "\n",
    "        config=self.config.data_transformation\n",
    "\n",
    "        create_directories([config.root_dir])\n",
    "        create_directories([config.data_path])\n",
    "\n",
    "        data_transformation_config=DataTransformationConfig(\n",
    "            root_dir=config.root_dir,\n",
    "            data_path=config.data_path\n",
    "        )\n",
    "\n",
    "        return data_transformation_config"
   ]
  },
  {
   "cell_type": "code",
   "execution_count": null,
   "metadata": {},
   "outputs": [],
   "source": [
    "import pandas as pd\n",
    "from sklearn.model_selection import train_test_split\n",
    "\n",
    "class DataTransformation:\n",
    "    def __init__(self,config: DataTransformationConfig):\n",
    "        self.config=config\n",
    "\n",
    "    def train_test_split(self):\n",
    "        data=pd.read_csv(self.config.data_path)\n",
    "\n",
    "        train,test=train_test_split(data)\n",
    "\n",
    "        train.to_csv(os.path.join(self.config.root_dir,\"train.csv\"),index= False)\n",
    "        test.to_csv(os.path.join(self.config.root_dir,\"test.csv\"),index= False)"
   ]
  },
  {
   "cell_type": "code",
   "execution_count": 9,
   "metadata": {},
   "outputs": [
    {
     "ename": "TypeError",
     "evalue": "__init__() missing 3 required positional arguments: 'CONFIG_FILE_PATH', 'SCHEMA_FILE_PATH', and 'PARAMS_FILE_PATH'",
     "output_type": "error",
     "traceback": [
      "\u001b[1;31m---------------------------------------------------------------------------\u001b[0m",
      "\u001b[1;31mTypeError\u001b[0m                                 Traceback (most recent call last)",
      "\u001b[1;32me:\\FullStack_Data\\MACHINE_LEARNING\\PROJECTS\\MLPROJ_test\\reasearch\\03_data_transformation.ipynb Cell 7\u001b[0m line \u001b[0;36m7\n\u001b[0;32m      <a href='vscode-notebook-cell:/e%3A/FullStack_Data/MACHINE_LEARNING/PROJECTS/MLPROJ_test/reasearch/03_data_transformation.ipynb#W6sZmlsZQ%3D%3D?line=4'>5</a>\u001b[0m     data_t\u001b[39m.\u001b[39mtrain_test_split\n\u001b[0;32m      <a href='vscode-notebook-cell:/e%3A/FullStack_Data/MACHINE_LEARNING/PROJECTS/MLPROJ_test/reasearch/03_data_transformation.ipynb#W6sZmlsZQ%3D%3D?line=5'>6</a>\u001b[0m \u001b[39mexcept\u001b[39;00m \u001b[39mException\u001b[39;00m \u001b[39mas\u001b[39;00m e:\n\u001b[1;32m----> <a href='vscode-notebook-cell:/e%3A/FullStack_Data/MACHINE_LEARNING/PROJECTS/MLPROJ_test/reasearch/03_data_transformation.ipynb#W6sZmlsZQ%3D%3D?line=6'>7</a>\u001b[0m     \u001b[39mraise\u001b[39;00m e\n",
      "\u001b[1;32me:\\FullStack_Data\\MACHINE_LEARNING\\PROJECTS\\MLPROJ_test\\reasearch\\03_data_transformation.ipynb Cell 7\u001b[0m line \u001b[0;36m2\n\u001b[0;32m      <a href='vscode-notebook-cell:/e%3A/FullStack_Data/MACHINE_LEARNING/PROJECTS/MLPROJ_test/reasearch/03_data_transformation.ipynb#W6sZmlsZQ%3D%3D?line=0'>1</a>\u001b[0m \u001b[39mtry\u001b[39;00m:\n\u001b[1;32m----> <a href='vscode-notebook-cell:/e%3A/FullStack_Data/MACHINE_LEARNING/PROJECTS/MLPROJ_test/reasearch/03_data_transformation.ipynb#W6sZmlsZQ%3D%3D?line=1'>2</a>\u001b[0m     conf\u001b[39m=\u001b[39mConfigurationManager()\n\u001b[0;32m      <a href='vscode-notebook-cell:/e%3A/FullStack_Data/MACHINE_LEARNING/PROJECTS/MLPROJ_test/reasearch/03_data_transformation.ipynb#W6sZmlsZQ%3D%3D?line=2'>3</a>\u001b[0m     data_trans\u001b[39m=\u001b[39mconf\u001b[39m.\u001b[39mget_data_transformation_config()\n\u001b[0;32m      <a href='vscode-notebook-cell:/e%3A/FullStack_Data/MACHINE_LEARNING/PROJECTS/MLPROJ_test/reasearch/03_data_transformation.ipynb#W6sZmlsZQ%3D%3D?line=3'>4</a>\u001b[0m     data_t\u001b[39m=\u001b[39mDataTransformation(config\u001b[39m=\u001b[39mdata_trans)\n",
      "\u001b[1;31mTypeError\u001b[0m: __init__() missing 3 required positional arguments: 'CONFIG_FILE_PATH', 'SCHEMA_FILE_PATH', and 'PARAMS_FILE_PATH'"
     ]
    }
   ],
   "source": [
    "try:\n",
    "    conf=ConfigurationManager()\n",
    "    data_trans=conf.get_data_transformation_config()\n",
    "    data_t=DataTransformation(config=data_trans)\n",
    "    data_t.train_test_split\n",
    "except Exception as e:\n",
    "    raise e"
   ]
  },
  {
   "cell_type": "code",
   "execution_count": null,
   "metadata": {},
   "outputs": [],
   "source": []
  }
 ],
 "metadata": {
  "kernelspec": {
   "display_name": "Python 3",
   "language": "python",
   "name": "python3"
  },
  "language_info": {
   "codemirror_mode": {
    "name": "ipython",
    "version": 3
   },
   "file_extension": ".py",
   "mimetype": "text/x-python",
   "name": "python",
   "nbconvert_exporter": "python",
   "pygments_lexer": "ipython3",
   "version": "3.8.0"
  }
 },
 "nbformat": 4,
 "nbformat_minor": 2
}
