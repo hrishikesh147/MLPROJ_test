{
 "cells": [
  {
   "cell_type": "code",
   "execution_count": 1,
   "metadata": {},
   "outputs": [],
   "source": [
    "import os"
   ]
  },
  {
   "cell_type": "code",
   "execution_count": 2,
   "metadata": {},
   "outputs": [
    {
     "data": {
      "text/plain": [
       "'e:\\\\FullStack_Data\\\\MACHINE_LEARNING\\\\PROJECTS\\\\MLPROJ_test\\\\reasearch'"
      ]
     },
     "execution_count": 2,
     "metadata": {},
     "output_type": "execute_result"
    }
   ],
   "source": [
    "%pwd"
   ]
  },
  {
   "cell_type": "code",
   "execution_count": 3,
   "metadata": {},
   "outputs": [],
   "source": [
    "os.chdir('../')"
   ]
  },
  {
   "cell_type": "code",
   "execution_count": 4,
   "metadata": {},
   "outputs": [
    {
     "data": {
      "text/plain": [
       "'e:\\\\FullStack_Data\\\\MACHINE_LEARNING\\\\PROJECTS\\\\MLPROJ_test'"
      ]
     },
     "execution_count": 4,
     "metadata": {},
     "output_type": "execute_result"
    }
   ],
   "source": [
    "%pwd"
   ]
  },
  {
   "cell_type": "code",
   "execution_count": 5,
   "metadata": {},
   "outputs": [],
   "source": [
    "import pandas as pd\n"
   ]
  },
  {
   "cell_type": "code",
   "execution_count": 6,
   "metadata": {},
   "outputs": [],
   "source": [
    "from dataclasses import dataclass\n",
    "from pathlib import Path\n",
    "\n",
    "@dataclass(frozen=True)\n",
    "class DataValidationConfig:\n",
    "    root_dir: Path\n",
    "    unzip_data_dir: Path\n",
    "    STATUS_FILE: str\n",
    "    all_schema: dict\n"
   ]
  },
  {
   "cell_type": "code",
   "execution_count": 7,
   "metadata": {},
   "outputs": [],
   "source": [
    "from src.mlproject1.constants import *\n",
    "from src.mlproject1.utils.common import read_yaml,create_directories\n",
    "import os\n",
    "from src.mlproject1 import logger\n",
    "\n",
    "class ConfigurationManager:\n",
    "    def __init__(self,CONFIG_FILE_PATH,SCHEMA_FILE_PATH,PARAMS_FILE_PATH):\n",
    "        self.config=read_yaml(CONFIG_FILE_PATH)\n",
    "        self.params=read_yaml(PARAMS_FILE_PATH)\n",
    "        self.schema=read_yaml(SCHEMA_FILE_PATH)\n",
    "\n",
    "        create_directories([self.config.artifacts_root])\n",
    "\n",
    "    def get_data_validation_config(self) -> DataValidationConfig:\n",
    "        try:\n",
    "            config=self.config.data_validation\n",
    "            schema=self.schema.COLUMNS\n",
    "\n",
    "            create_directories([config.root_dir])\n",
    "\n",
    "            data_validation_config= DataValidationConfig(\n",
    "                root_dir=config.root_dir,\n",
    "                unzip_data_dir=config.unzip_data_dir,\n",
    "                STATUS_FILE=config.STATUS_FILE,\n",
    "                all_schema=schema\n",
    "            )\n",
    "\n",
    "            return data_validation_config\n",
    "        except Exception as e:\n",
    "            raise e"
   ]
  },
  {
   "cell_type": "code",
   "execution_count": 8,
   "metadata": {},
   "outputs": [],
   "source": [
    "import os\n",
    "from src.mlproject1 import logger\n",
    "\n",
    "class DataValidation:\n",
    "    def __init__(self,config:DataValidationConfig):\n",
    "        self.config=config\n",
    "\n",
    "    def validate_all_columns(self)-> bool:\n",
    "        try:\n",
    "            validation_status=None\n",
    "            data =pd.read_csv(self.config.unzip_data_dir)\n",
    "            all_cols=list(data.columns)\n",
    "\n",
    "            all_schema=self.config.all_schema.keys()\n",
    "\n",
    "            for i in all_cols:\n",
    "                if i not in all_schema:\n",
    "                    validation_status= False\n",
    "                    with open(self.config.STATUS_FILE,'w') as f:\n",
    "                        f.write(f\"Validation Status: {validation_status}\")\n",
    "                else:\n",
    "                    validation_status= True\n",
    "                    with open(self.config.STATUS_FILE,'w') as f:\n",
    "                        f.write(f\"Validation Status : {validation_status}\")\n",
    "\n",
    "            return validation_status\n",
    "\n",
    "        except Exception as e:\n",
    "            raise e\n"
   ]
  },
  {
   "cell_type": "code",
   "execution_count": 9,
   "metadata": {},
   "outputs": [
    {
     "ename": "TypeError",
     "evalue": "__init__() missing 3 required positional arguments: 'CONFIG_FILE_PATH', 'SCHEMA_FILE_PATH', and 'PARAMS_FILE_PATH'",
     "output_type": "error",
     "traceback": [
      "\u001b[1;31m---------------------------------------------------------------------------\u001b[0m",
      "\u001b[1;31mTypeError\u001b[0m                                 Traceback (most recent call last)",
      "\u001b[1;32me:\\FullStack_Data\\MACHINE_LEARNING\\PROJECTS\\MLPROJ_test\\reasearch\\02_data_validation.ipynb Cell 9\u001b[0m line \u001b[0;36m7\n\u001b[0;32m      <a href='vscode-notebook-cell:/e%3A/FullStack_Data/MACHINE_LEARNING/PROJECTS/MLPROJ_test/reasearch/02_data_validation.ipynb#X11sZmlsZQ%3D%3D?line=4'>5</a>\u001b[0m     data_v\u001b[39m.\u001b[39mvalidate_all_columns()\n\u001b[0;32m      <a href='vscode-notebook-cell:/e%3A/FullStack_Data/MACHINE_LEARNING/PROJECTS/MLPROJ_test/reasearch/02_data_validation.ipynb#X11sZmlsZQ%3D%3D?line=5'>6</a>\u001b[0m \u001b[39mexcept\u001b[39;00m \u001b[39mException\u001b[39;00m \u001b[39mas\u001b[39;00m e:\n\u001b[1;32m----> <a href='vscode-notebook-cell:/e%3A/FullStack_Data/MACHINE_LEARNING/PROJECTS/MLPROJ_test/reasearch/02_data_validation.ipynb#X11sZmlsZQ%3D%3D?line=6'>7</a>\u001b[0m     \u001b[39mraise\u001b[39;00m e\n",
      "\u001b[1;32me:\\FullStack_Data\\MACHINE_LEARNING\\PROJECTS\\MLPROJ_test\\reasearch\\02_data_validation.ipynb Cell 9\u001b[0m line \u001b[0;36m2\n\u001b[0;32m      <a href='vscode-notebook-cell:/e%3A/FullStack_Data/MACHINE_LEARNING/PROJECTS/MLPROJ_test/reasearch/02_data_validation.ipynb#X11sZmlsZQ%3D%3D?line=0'>1</a>\u001b[0m \u001b[39mtry\u001b[39;00m:\n\u001b[1;32m----> <a href='vscode-notebook-cell:/e%3A/FullStack_Data/MACHINE_LEARNING/PROJECTS/MLPROJ_test/reasearch/02_data_validation.ipynb#X11sZmlsZQ%3D%3D?line=1'>2</a>\u001b[0m     con\u001b[39m=\u001b[39mConfigurationManager()\n\u001b[0;32m      <a href='vscode-notebook-cell:/e%3A/FullStack_Data/MACHINE_LEARNING/PROJECTS/MLPROJ_test/reasearch/02_data_validation.ipynb#X11sZmlsZQ%3D%3D?line=2'>3</a>\u001b[0m     data_val\u001b[39m=\u001b[39mcon\u001b[39m.\u001b[39mget_data_validation_config()\n\u001b[0;32m      <a href='vscode-notebook-cell:/e%3A/FullStack_Data/MACHINE_LEARNING/PROJECTS/MLPROJ_test/reasearch/02_data_validation.ipynb#X11sZmlsZQ%3D%3D?line=3'>4</a>\u001b[0m     data_v\u001b[39m=\u001b[39mDataValidation(config\u001b[39m=\u001b[39mdata_val)\n",
      "\u001b[1;31mTypeError\u001b[0m: __init__() missing 3 required positional arguments: 'CONFIG_FILE_PATH', 'SCHEMA_FILE_PATH', and 'PARAMS_FILE_PATH'"
     ]
    }
   ],
   "source": [
    "try:\n",
    "    con=ConfigurationManager()\n",
    "    data_val=con.get_data_validation_config()\n",
    "    data_v=DataValidation(config=data_val)\n",
    "    data_v.validate_all_columns()\n",
    "except Exception as e:\n",
    "    raise e"
   ]
  },
  {
   "cell_type": "code",
   "execution_count": null,
   "metadata": {},
   "outputs": [],
   "source": []
  }
 ],
 "metadata": {
  "kernelspec": {
   "display_name": "Python 3",
   "language": "python",
   "name": "python3"
  },
  "language_info": {
   "codemirror_mode": {
    "name": "ipython",
    "version": 3
   },
   "file_extension": ".py",
   "mimetype": "text/x-python",
   "name": "python",
   "nbconvert_exporter": "python",
   "pygments_lexer": "ipython3",
   "version": "3.8.0"
  }
 },
 "nbformat": 4,
 "nbformat_minor": 2
}
