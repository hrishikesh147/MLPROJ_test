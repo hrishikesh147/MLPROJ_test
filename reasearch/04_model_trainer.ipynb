{
 "cells": [
  {
   "cell_type": "code",
   "execution_count": 1,
   "metadata": {},
   "outputs": [
    {
     "data": {
      "text/plain": [
       "'e:\\\\FullStack_Data\\\\MACHINE_LEARNING\\\\PROJECTS\\\\MLPROJ_test\\\\reasearch'"
      ]
     },
     "execution_count": 1,
     "metadata": {},
     "output_type": "execute_result"
    }
   ],
   "source": [
    "%pwd"
   ]
  },
  {
   "cell_type": "code",
   "execution_count": 2,
   "metadata": {},
   "outputs": [],
   "source": [
    "import os\n",
    "os.chdir('../')"
   ]
  },
  {
   "cell_type": "code",
   "execution_count": 3,
   "metadata": {},
   "outputs": [
    {
     "data": {
      "text/plain": [
       "'e:\\\\FullStack_Data\\\\MACHINE_LEARNING\\\\PROJECTS\\\\MLPROJ_test'"
      ]
     },
     "execution_count": 3,
     "metadata": {},
     "output_type": "execute_result"
    }
   ],
   "source": [
    "%pwd"
   ]
  },
  {
   "cell_type": "code",
   "execution_count": 4,
   "metadata": {},
   "outputs": [],
   "source": [
    "from dataclasses import dataclass\n",
    "from pathlib import Path\n",
    "\n",
    "@dataclass(frozen=True)\n",
    "class ModelTrainerConfig:\n",
    "    root_dir: Path\n",
    "    train_csv: Path\n",
    "    test_csv: Path\n",
    "    model_name: str\n",
    "    alpha: float\n",
    "    l1_ratio: float\n",
    "    target_column: str\n"
   ]
  },
  {
   "cell_type": "code",
   "execution_count": 7,
   "metadata": {},
   "outputs": [],
   "source": [
    "from src.mlproject1.constants import *\n",
    "from src.mlproject1.utils.common import read_yaml,create_directories\n",
    "import os\n",
    "from src.mlproject1 import logger\n",
    "\n",
    "class ConfigurationManager:\n",
    "    def __init__(self,CONFIG_FILE_PATH,SCHEMA_FILE_PATH,PARAMS_FILE_PATH):\n",
    "        self.config=read_yaml(CONFIG_FILE_PATH)\n",
    "        self.params=read_yaml(PARAMS_FILE_PATH)\n",
    "        self.schema=read_yaml(SCHEMA_FILE_PATH)\n",
    "\n",
    "        create_directories([self.config.artifacts_root])\n",
    "\n",
    "    def get_model_trainer(self)-> ModelTrainerConfig:\n",
    "        config=self.config.model_trainer\n",
    "        params=self.params.ElasticNet\n",
    "        schema=self.schema.TARGET_COLUMN\n",
    "\n",
    "        create_directories([config.root_dir])\n",
    "\n",
    "        model_trainer_conf=ModelTrainerConfig(\n",
    "            root_dir=config.root_dir,\n",
    "            train_csv=config.train_csv,\n",
    "            test_csv=config.test_csv,\n",
    "            model_name=config.model_name,\n",
    "            alpha=params.alpha,\n",
    "            l1_ratio=params.l1_ratio,\n",
    "            target_column=schema.name\n",
    "        )\n",
    "\n",
    "        return model_trainer_conf"
   ]
  },
  {
   "cell_type": "code",
   "execution_count": 8,
   "metadata": {},
   "outputs": [],
   "source": [
    "from sklearn.linear_model import ElasticNet\n",
    "import pandas as pd\n",
    "from pathlib import Path\n",
    "import joblib\n",
    "import os\n",
    "\n",
    "class ModelTrainer:\n",
    "    def __init__(self,config:ModelTrainerConfig):\n",
    "        self.config=config\n",
    "        \n",
    "    def train(self):\n",
    "        schema=self.schema.TARGET_COLUMN\n",
    "\n",
    "        train_data=pd.read_csv(\"artifacts/data_transformation/train.csv\")\n",
    "        test_data=pd.read_csv(\"artifacts/data_transformation/test.csv\")\n",
    "\n",
    "        X_train=train_data.drop([schema.name],axis=1)\n",
    "        y_train=train_data([schema.name])\n",
    "\n",
    "        X_test=test_data.drop([schema.name],axis=1)\n",
    "        y_test=test_data([schema.name])\n",
    "\n",
    "        lr = ElasticNet(alpha=self.config.alpha, l1_ratio=self.config.l1_ratio, random_state=42)\n",
    "        lr.fit(X_train, y_train)\n",
    "\n",
    "        joblib.dump(lr,os.path.join([self.config.model_trainer.root_dir],[self.config.model_trainer.model_name]))\n",
    "\n",
    "\n"
   ]
  },
  {
   "cell_type": "code",
   "execution_count": null,
   "metadata": {},
   "outputs": [],
   "source": [
    "try:\n",
    "    con=ConfigurationManager()\n",
    "    get_model_t=con.get_model_trainer()\n",
    "    model_tr1=ModelTrainer(config=get_model_t)\n",
    "    model_tr1.train()\n",
    "except Exception as e:\n",
    "    raise e"
   ]
  }
 ],
 "metadata": {
  "kernelspec": {
   "display_name": "Python 3",
   "language": "python",
   "name": "python3"
  },
  "language_info": {
   "codemirror_mode": {
    "name": "ipython",
    "version": 3
   },
   "file_extension": ".py",
   "mimetype": "text/x-python",
   "name": "python",
   "nbconvert_exporter": "python",
   "pygments_lexer": "ipython3",
   "version": "3.8.0"
  }
 },
 "nbformat": 4,
 "nbformat_minor": 2
}
