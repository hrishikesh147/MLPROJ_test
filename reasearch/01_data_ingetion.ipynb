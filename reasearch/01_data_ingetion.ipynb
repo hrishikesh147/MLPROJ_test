{
 "cells": [
  {
   "cell_type": "code",
   "execution_count": 1,
   "metadata": {},
   "outputs": [
    {
     "data": {
      "text/plain": [
       "'e:\\\\FullStack_Data\\\\MACHINE_LEARNING\\\\PROJECTS\\\\MLPROJ_test\\\\reasearch'"
      ]
     },
     "execution_count": 1,
     "metadata": {},
     "output_type": "execute_result"
    }
   ],
   "source": [
    "import os\n",
    "\n",
    "%pwd"
   ]
  },
  {
   "cell_type": "code",
   "execution_count": 2,
   "metadata": {},
   "outputs": [],
   "source": [
    "os.chdir('../')"
   ]
  },
  {
   "cell_type": "code",
   "execution_count": 3,
   "metadata": {},
   "outputs": [
    {
     "data": {
      "text/plain": [
       "'e:\\\\FullStack_Data\\\\MACHINE_LEARNING\\\\PROJECTS\\\\MLPROJ_test'"
      ]
     },
     "execution_count": 3,
     "metadata": {},
     "output_type": "execute_result"
    }
   ],
   "source": [
    "%pwd"
   ]
  },
  {
   "cell_type": "code",
   "execution_count": 14,
   "metadata": {},
   "outputs": [],
   "source": [
    "from dataclasses import dataclass\n",
    "from pathlib import Path\n",
    "\n",
    "@dataclass(frozen=True)\n",
    "class DataIngestionConfig:\n",
    "    root_dir: Path\n",
    "    source_URL: str\n",
    "    local_data_file: Path\n",
    "    unzip_dir: Path"
   ]
  },
  {
   "cell_type": "code",
   "execution_count": 15,
   "metadata": {},
   "outputs": [],
   "source": [
    "from src.mlproject1.constants import *\n",
    "from src.mlproject1.utils.common import create_directories,read_yaml\n",
    "\n",
    "class ConfigurationManager:\n",
    "    def __init__(self,config_file_path=CONFIG_FILE_PATH,schema_file_path=SCHEMA_FILE_PATH,params_file_path=PARAMS_FILE_PATH):\n",
    "        self.config=read_yaml(config_file_path)\n",
    "        self.params=read_yaml(params_file_path)\n",
    "        self.schema=read_yaml(schema_file_path)\n",
    "\n",
    "        create_directories([self.config.artifacts_root])\n",
    "\n",
    "\n",
    "    def get_data_ingestion_config(self) -> DataIngestionConfig:\n",
    "        create_directories([self.config.data_ingetion.root_dir])\n",
    "\n",
    "        data_ingestion_config=DataIngestionConfig(\n",
    "            root_dir=self.config.data_ingetion.root_dir,\n",
    "            source_URL=self.config.data_ingetion.source_URL,\n",
    "            local_data_file=self.config.data_ingetion.local_data_file,\n",
    "            unzip_dir=self.config.data_ingetion.unzip_dir\n",
    "        )\n",
    "\n",
    "        return data_ingestion_config\n",
    "        \n",
    "            "
   ]
  },
  {
   "cell_type": "code",
   "execution_count": 16,
   "metadata": {},
   "outputs": [],
   "source": [
    "import os\n",
    "from src.mlproject1 import logger\n",
    "import urllib.request as request\n",
    "import zipfile\n",
    "\n",
    "\n",
    "class DataIngestion:\n",
    "    def __init__(self,config: DataIngestionConfig):\n",
    "        self.config=config\n",
    "\n",
    "    def download_data(self):\n",
    "        if not os.path.exists(self.config.data_ingetion.local_data_file):\n",
    "            filename,header=request(\n",
    "                url=self.config.data_ingetion.source_URL,\n",
    "                filename=self.config.data_ingetion.local_data_file\n",
    "            )\n",
    "            logger.info(f\"{filename} downloadad\")\n",
    "\n",
    "        else:\n",
    "            logger.info(f\"File already exists\")\n",
    "\n",
    "    def extract_zip_file(self):\n",
    "        unzip_path=self.config.data_ingetion.unzip_dir\n",
    "        os.makedirs(unzip_path,exist_ok=True)\n",
    "\n",
    "        with zipfile.ZipFile(self.config.data_ingetion.local_data_file,'r') as zipf:\n",
    "            zipf.extractall(unzip_path)"
   ]
  },
  {
   "cell_type": "code",
   "execution_count": 17,
   "metadata": {},
   "outputs": [
    {
     "ename": "UnboundLocalError",
     "evalue": "local variable 'f' referenced before assignment",
     "output_type": "error",
     "traceback": [
      "\u001b[1;31m---------------------------------------------------------------------------\u001b[0m",
      "\u001b[1;31mUnboundLocalError\u001b[0m                         Traceback (most recent call last)",
      "\u001b[1;32me:\\FullStack_Data\\MACHINE_LEARNING\\PROJECTS\\MLPROJ_test\\reasearch\\01_data_ingetion.ipynb Cell 7\u001b[0m line \u001b[0;36m8\n\u001b[0;32m      <a href='vscode-notebook-cell:/e%3A/FullStack_Data/MACHINE_LEARNING/PROJECTS/MLPROJ_test/reasearch/01_data_ingetion.ipynb#W6sZmlsZQ%3D%3D?line=5'>6</a>\u001b[0m     data_in\u001b[39m.\u001b[39mextract_zip_file()\n\u001b[0;32m      <a href='vscode-notebook-cell:/e%3A/FullStack_Data/MACHINE_LEARNING/PROJECTS/MLPROJ_test/reasearch/01_data_ingetion.ipynb#W6sZmlsZQ%3D%3D?line=6'>7</a>\u001b[0m \u001b[39mexcept\u001b[39;00m \u001b[39mException\u001b[39;00m \u001b[39mas\u001b[39;00m e:\n\u001b[1;32m----> <a href='vscode-notebook-cell:/e%3A/FullStack_Data/MACHINE_LEARNING/PROJECTS/MLPROJ_test/reasearch/01_data_ingetion.ipynb#W6sZmlsZQ%3D%3D?line=7'>8</a>\u001b[0m     \u001b[39mraise\u001b[39;00m e\n",
      "\u001b[1;32me:\\FullStack_Data\\MACHINE_LEARNING\\PROJECTS\\MLPROJ_test\\reasearch\\01_data_ingetion.ipynb Cell 7\u001b[0m line \u001b[0;36m2\n\u001b[0;32m      <a href='vscode-notebook-cell:/e%3A/FullStack_Data/MACHINE_LEARNING/PROJECTS/MLPROJ_test/reasearch/01_data_ingetion.ipynb#W6sZmlsZQ%3D%3D?line=0'>1</a>\u001b[0m \u001b[39mtry\u001b[39;00m:\n\u001b[1;32m----> <a href='vscode-notebook-cell:/e%3A/FullStack_Data/MACHINE_LEARNING/PROJECTS/MLPROJ_test/reasearch/01_data_ingetion.ipynb#W6sZmlsZQ%3D%3D?line=1'>2</a>\u001b[0m     conf\u001b[39m=\u001b[39mConfigurationManager()\n\u001b[0;32m      <a href='vscode-notebook-cell:/e%3A/FullStack_Data/MACHINE_LEARNING/PROJECTS/MLPROJ_test/reasearch/01_data_ingetion.ipynb#W6sZmlsZQ%3D%3D?line=2'>3</a>\u001b[0m     data_ingest\u001b[39m=\u001b[39mconf\u001b[39m.\u001b[39mget_data_ingestion_config()\n\u001b[0;32m      <a href='vscode-notebook-cell:/e%3A/FullStack_Data/MACHINE_LEARNING/PROJECTS/MLPROJ_test/reasearch/01_data_ingetion.ipynb#W6sZmlsZQ%3D%3D?line=3'>4</a>\u001b[0m     data_in\u001b[39m=\u001b[39mDataIngestion(data_ingest)\n",
      "\u001b[1;32me:\\FullStack_Data\\MACHINE_LEARNING\\PROJECTS\\MLPROJ_test\\reasearch\\01_data_ingetion.ipynb Cell 7\u001b[0m line \u001b[0;36m6\n\u001b[0;32m      <a href='vscode-notebook-cell:/e%3A/FullStack_Data/MACHINE_LEARNING/PROJECTS/MLPROJ_test/reasearch/01_data_ingetion.ipynb#W6sZmlsZQ%3D%3D?line=4'>5</a>\u001b[0m \u001b[39mdef\u001b[39;00m \u001b[39m__init__\u001b[39m(\u001b[39mself\u001b[39m,config_file_path\u001b[39m=\u001b[39mCONFIG_FILE_PATH,schema_file_path\u001b[39m=\u001b[39mSCHEMA_FILE_PATH,params_file_path\u001b[39m=\u001b[39mPARAMS_FILE_PATH):\n\u001b[1;32m----> <a href='vscode-notebook-cell:/e%3A/FullStack_Data/MACHINE_LEARNING/PROJECTS/MLPROJ_test/reasearch/01_data_ingetion.ipynb#W6sZmlsZQ%3D%3D?line=5'>6</a>\u001b[0m     \u001b[39mself\u001b[39m\u001b[39m.\u001b[39mconfig\u001b[39m=\u001b[39mread_yaml(config_file_path)\n\u001b[0;32m      <a href='vscode-notebook-cell:/e%3A/FullStack_Data/MACHINE_LEARNING/PROJECTS/MLPROJ_test/reasearch/01_data_ingetion.ipynb#W6sZmlsZQ%3D%3D?line=6'>7</a>\u001b[0m     \u001b[39mself\u001b[39m\u001b[39m.\u001b[39mparams\u001b[39m=\u001b[39mread_yaml(params_file_path)\n\u001b[0;32m      <a href='vscode-notebook-cell:/e%3A/FullStack_Data/MACHINE_LEARNING/PROJECTS/MLPROJ_test/reasearch/01_data_ingetion.ipynb#W6sZmlsZQ%3D%3D?line=7'>8</a>\u001b[0m     \u001b[39mself\u001b[39m\u001b[39m.\u001b[39mschema\u001b[39m=\u001b[39mread_yaml(schema_file_path)\n",
      "File \u001b[1;32me:\\FullStack_Data\\MACHINE_LEARNING\\PROJECTS\\MLPROJ_test\\env\\lib\\site-packages\\ensure\\main.py:849\u001b[0m, in \u001b[0;36mWrappedFunctionReturn.__call__\u001b[1;34m(self, *args, **kwargs)\u001b[0m\n\u001b[0;32m    841\u001b[0m         msg \u001b[39m=\u001b[39m (\n\u001b[0;32m    842\u001b[0m             \u001b[39m\"\u001b[39m\u001b[39mArgument \u001b[39m\u001b[39m{arg}\u001b[39;00m\u001b[39m of type \u001b[39m\u001b[39m{valt}\u001b[39;00m\u001b[39m to \u001b[39m\u001b[39m{f}\u001b[39;00m\u001b[39m \u001b[39m\u001b[39m\"\u001b[39m\n\u001b[0;32m    843\u001b[0m             \u001b[39m\"\u001b[39m\u001b[39mdoes not match annotation type \u001b[39m\u001b[39m{t}\u001b[39;00m\u001b[39m\"\u001b[39m\n\u001b[0;32m    844\u001b[0m         )\n\u001b[0;32m    845\u001b[0m         \u001b[39mraise\u001b[39;00m EnsureError(msg\u001b[39m.\u001b[39mformat(\n\u001b[0;32m    846\u001b[0m             arg\u001b[39m=\u001b[39marg, f\u001b[39m=\u001b[39m\u001b[39mself\u001b[39m\u001b[39m.\u001b[39mf, t\u001b[39m=\u001b[39mtempl, valt\u001b[39m=\u001b[39m\u001b[39mtype\u001b[39m(value)\n\u001b[0;32m    847\u001b[0m         ))\n\u001b[1;32m--> 849\u001b[0m return_val \u001b[39m=\u001b[39m \u001b[39mself\u001b[39;49m\u001b[39m.\u001b[39;49mf(\u001b[39m*\u001b[39;49margs, \u001b[39m*\u001b[39;49m\u001b[39m*\u001b[39;49mkwargs)\n\u001b[0;32m    850\u001b[0m \u001b[39mif\u001b[39;00m \u001b[39mnot\u001b[39;00m \u001b[39misinstance\u001b[39m(return_val, \u001b[39mself\u001b[39m\u001b[39m.\u001b[39mreturn_templ):\n\u001b[0;32m    851\u001b[0m     msg \u001b[39m=\u001b[39m (\n\u001b[0;32m    852\u001b[0m         \u001b[39m\"\u001b[39m\u001b[39mReturn value of \u001b[39m\u001b[39m{f}\u001b[39;00m\u001b[39m of type \u001b[39m\u001b[39m{valt}\u001b[39;00m\u001b[39m \u001b[39m\u001b[39m\"\u001b[39m\n\u001b[0;32m    853\u001b[0m         \u001b[39m\"\u001b[39m\u001b[39mdoes not match annotation type \u001b[39m\u001b[39m{t}\u001b[39;00m\u001b[39m\"\u001b[39m\n\u001b[0;32m    854\u001b[0m     )\n",
      "File \u001b[1;32me:\\FullStack_Data\\MACHINE_LEARNING\\PROJECTS\\MLPROJ_test\\src\\mlproject1\\utils\\common.py:23\u001b[0m, in \u001b[0;36mread_yaml\u001b[1;34m(path_yaml)\u001b[0m\n\u001b[0;32m     20\u001b[0m     \u001b[39mraise\u001b[39;00m \u001b[39mValueError\u001b[39;00m(\u001b[39m\"\u001b[39m\u001b[39myaml file in empty\u001b[39m\u001b[39m\"\u001b[39m)\n\u001b[0;32m     22\u001b[0m \u001b[39mexcept\u001b[39;00m \u001b[39mException\u001b[39;00m \u001b[39mas\u001b[39;00m e:\n\u001b[1;32m---> 23\u001b[0m     \u001b[39mraise\u001b[39;00m e\n",
      "File \u001b[1;32me:\\FullStack_Data\\MACHINE_LEARNING\\PROJECTS\\MLPROJ_test\\src\\mlproject1\\utils\\common.py:15\u001b[0m, in \u001b[0;36mread_yaml\u001b[1;34m(path_yaml)\u001b[0m\n\u001b[0;32m     13\u001b[0m \u001b[39mtry\u001b[39;00m:\n\u001b[0;32m     14\u001b[0m     \u001b[39mwith\u001b[39;00m \u001b[39mopen\u001b[39m(path_yaml) \u001b[39mas\u001b[39;00m yaml_f:\n\u001b[1;32m---> 15\u001b[0m         f\u001b[39m=\u001b[39myaml\u001b[39m.\u001b[39msafe_load(f)\n\u001b[0;32m     16\u001b[0m         content\u001b[39m=\u001b[39mConfigBox(f)\n\u001b[0;32m     17\u001b[0m         logger\u001b[39m.\u001b[39minfo(\u001b[39mf\u001b[39m\u001b[39m\"\u001b[39m\u001b[39mread yaml file \u001b[39m\u001b[39m{\u001b[39;00mcontent\u001b[39m}\u001b[39;00m\u001b[39m\"\u001b[39m)\n",
      "\u001b[1;31mUnboundLocalError\u001b[0m: local variable 'f' referenced before assignment"
     ]
    }
   ],
   "source": [
    "try:\n",
    "    conf=ConfigurationManager()\n",
    "    data_ingest=conf.get_data_ingestion_config()\n",
    "    data_in=DataIngestion(data_ingest)\n",
    "    data_in.download_data()\n",
    "    data_in.extract_zip_file()\n",
    "except Exception as e:\n",
    "    raise e"
   ]
  },
  {
   "cell_type": "code",
   "execution_count": null,
   "metadata": {},
   "outputs": [],
   "source": []
  }
 ],
 "metadata": {
  "kernelspec": {
   "display_name": "Python 3",
   "language": "python",
   "name": "python3"
  },
  "language_info": {
   "codemirror_mode": {
    "name": "ipython",
    "version": 3
   },
   "file_extension": ".py",
   "mimetype": "text/x-python",
   "name": "python",
   "nbconvert_exporter": "python",
   "pygments_lexer": "ipython3",
   "version": "3.8.0"
  }
 },
 "nbformat": 4,
 "nbformat_minor": 2
}
